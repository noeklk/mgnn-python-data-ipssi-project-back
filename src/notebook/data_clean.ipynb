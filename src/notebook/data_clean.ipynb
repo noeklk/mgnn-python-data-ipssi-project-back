{
 "cells": [
  {
   "cell_type": "code",
   "execution_count": 1,
   "metadata": {},
   "outputs": [],
   "source": [
    "from sqlalchemy.sql import text\n",
    "import sqlalchemy as sa\n",
    "from sqlalchemy import create_engine\n",
    "import pandas as pd\n",
    "import numpy as np\n",
    "\n",
    "engine = create_engine('mysql+pymysql://root@localhost:8081/airport-analytics?charset=utf8mb4')\n",
    "\n",
    "# FOREIGN KEY tailnum_fk(tailnum) REFERENCES planes (tailnum), YES\n",
    "# FOREIGN KEY dest_fk(dest) REFERENCES airports (faa), YES"
   ]
  },
  {
   "cell_type": "code",
   "execution_count": 2,
   "metadata": {},
   "outputs": [],
   "source": [
    "weather = pd.read_csv('../static/weather.csv')\n",
    "weather.fillna(np.nan, inplace = True)\n",
    "weather.replace(r'\\s+', np.nan, regex=True, inplace=True)\n",
    "\n",
    "weather['time_hour'] = pd.to_datetime(weather['time_hour'], errors='coerce')\n",
    "\n",
    "weather.to_sql('weather', con=engine, if_exists='append', index = False)"
   ]
  },
  {
   "cell_type": "code",
   "execution_count": 3,
   "metadata": {},
   "outputs": [],
   "source": [
    "airlines = pd.read_csv('../static/airlines.csv')\n",
    "airlines.fillna(np.nan, inplace = True)\n",
    "\n",
    "airlines.to_sql('airlines', con=engine, if_exists='append', index = False)"
   ]
  },
  {
   "cell_type": "code",
   "execution_count": 4,
   "metadata": {},
   "outputs": [],
   "source": [
    "airports = pd.read_csv('../static/airports.csv')\n",
    "airports.fillna(np.nan, inplace = True)\n",
    "\n",
    "airports.to_sql('airports', con=engine, if_exists='append', index = False)"
   ]
  },
  {
   "cell_type": "code",
   "execution_count": 5,
   "metadata": {},
   "outputs": [],
   "source": [
    "planes = pd.read_csv('../static/planes.csv')\n",
    "planes.fillna(np.nan, inplace = True)\n",
    "\n",
    "planes['speed'].replace(r'\\s+', np.nan, regex=True, inplace=True)\n",
    "planes['year'].replace(r'\\s+', np.nan, regex=True, inplace=True)\n",
    "\n",
    "planes.to_sql('planes', con=engine, if_exists='append', index = False)"
   ]
  },
  {
   "cell_type": "code",
   "execution_count": 21,
   "metadata": {},
   "outputs": [
    {
     "name": "stdout",
     "output_type": "stream",
     "text": [
      "277977\n"
     ]
    }
   ],
   "source": [
    "flights = pd.read_csv('../static/flights.csv')\n",
    "flights.fillna(np.nan, inplace = True)\n",
    "\n",
    "flights['time_hour'] = pd.to_datetime(flights['time_hour'], errors='coerce')\n",
    "flights['arr_delay'].replace(r'\\s+', np.nan, regex=True, inplace=True)\n",
    "flights['air_time'].replace(r'\\s+', np.nan, regex=True, inplace=True)\n",
    "flights['arr_time'].replace(r'\\s+', np.nan, regex=True, inplace=True)\n",
    "flights['dep_time'].replace(r'\\s+', np.nan, regex=True, inplace=True)\n",
    "flights['dep_delay'].replace(r'\\s+', np.nan, regex=True, inplace=True)\n",
    "\n",
    "#--------------------------------------------------AIRPORTS FAA\n",
    "airports_faa = []\n",
    "for i in airports['faa']:\n",
    "    airports_faa.append(i)\n",
    "flights = flights[flights.dest.isin(airports_faa)]\n",
    "#--------------------------------------------------PLANES TAILNUM\n",
    "planes_tailnum = []\n",
    "for i in planes['tailnum']:\n",
    "    planes_tailnum.append(i)\n",
    "#--------------------------------------------------\n",
    "flights = flights[(flights.dest.isin(airports_faa)) & (flights.tailnum.isin(planes_tailnum))]\n",
    "\n",
    "index = flights.index\n",
    "rows_count = len(index)\n",
    "print(rows_count)\n"
   ]
  },
  {
   "cell_type": "code",
   "execution_count": 22,
   "metadata": {},
   "outputs": [],
   "source": [
    "flights.to_sql('flights', con=engine, if_exists='append', index = False)"
   ]
  }
 ],
 "metadata": {
  "kernelspec": {
   "display_name": "Python 3",
   "language": "python",
   "name": "python3"
  },
  "language_info": {
   "codemirror_mode": {
    "name": "ipython",
    "version": 3
   },
   "file_extension": ".py",
   "mimetype": "text/x-python",
   "name": "python",
   "nbconvert_exporter": "python",
   "pygments_lexer": "ipython3",
   "version": "3.8.0"
  }
 },
 "nbformat": 4,
 "nbformat_minor": 4
}
