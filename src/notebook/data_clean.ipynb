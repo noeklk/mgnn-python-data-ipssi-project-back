{
 "cells": [
  {
   "cell_type": "code",
   "execution_count": 2,
   "metadata": {
    "scrolled": true
   },
   "outputs": [],
   "source": [
    "from sqlalchemy.sql import text\n",
    "import sqlalchemy as sa\n",
    "from sqlalchemy import create_engine\n",
    "import pandas as pd\n",
    "import numpy as np\n",
    "from datetime import datetime\n",
    "\n",
    "engine = create_engine('mysql+pymysql://root@localhost:8081/airport-analytics?charset=utf8mb4')\n",
    "\n",
    "# FOREIGN KEY tailnum_fk(tailnum) REFERENCES planes (tailnum), YES\n",
    "# FOREIGN KEY dest_fk(dest) REFERENCES airports (faa), YES"
   ]
  },
  {
   "cell_type": "code",
   "execution_count": 3,
   "metadata": {
    "scrolled": true
   },
   "outputs": [],
   "source": [
    "airports = pd.read_csv('../static/airports.csv')\n",
    "airports.fillna(np.nan, inplace = True)\n",
    "airports.to_sql('airports', con=engine, if_exists='append', index = False)\n",
    "\n",
    "weather = pd.read_csv('../static/weather.csv')\n",
    "weather.fillna(np.nan, inplace = True)\n",
    "weather.replace(r'\\s+', np.nan, regex=True, inplace=True)\n",
    "weather['time_hour'] = pd.to_datetime(weather['time_hour'], errors='coerce').values.astype('datetime64[us]')\n",
    "weather.to_sql('weather', con=engine, if_exists='append', index = False)\n",
    "\n",
    "airlines = pd.read_csv('../static/airlines.csv')\n",
    "airlines.fillna(np.nan, inplace = True)\n",
    "airlines.to_sql('airlines', con=engine, if_exists='append', index = False)\n",
    "\n",
    "planes = pd.read_csv('../static/planes.csv')\n",
    "planes.fillna(np.nan, inplace = True)\n",
    "planes['speed'].replace(r'\\s+', np.nan, regex=True, inplace=True)\n",
    "planes['year'].replace(r'\\s+', np.nan, regex=True, inplace=True)\n",
    "planes.to_sql('planes', con=engine, if_exists='append', index = False)"
   ]
  },
  {
   "cell_type": "code",
   "execution_count": 5,
   "metadata": {
    "scrolled": true
   },
   "outputs": [
    {
     "name": "stdout",
     "output_type": "stream",
     "text": [
      "RangeIndex(start=0, stop=336776, step=1)\n"
     ]
    }
   ],
   "source": [
    "flights = pd.read_csv('../static/flights.csv')\n",
    "flights.fillna(np.nan, inplace = True)\n",
    "flights['time_hour'] = pd.to_datetime(flights['time_hour'], errors='coerce').values.astype('datetime64[us]')\n",
    "flights['arr_delay'].replace(r'\\s+', np.nan, regex=True, inplace=True)\n",
    "flights['air_time'].replace(r'\\s+', np.nan, regex=True, inplace=True)\n",
    "flights['arr_time'].replace(r'\\s+', np.nan, regex=True, inplace=True)\n",
    "flights['dep_time'].replace(r'\\s+', np.nan, regex=True, inplace=True)\n",
    "flights['dep_delay'].replace(r'\\s+', np.nan, regex=True, inplace=True)"
   ]
  },
  {
   "cell_type": "code",
   "execution_count": 20,
   "metadata": {},
   "outputs": [
    {
     "name": "stdout",
     "output_type": "stream",
     "text": [
      "52606\n"
     ]
    }
   ],
   "source": [
    "test = flights[~(flights.dest.isin(airports['faa']))]\n",
    "test2 = flights[~(flights.tailnum.isin(planes['tailnum']))]\n",
    "test3 = flights.drop(test, axis=1)\n",
    "\n",
    "print(len(test2.index))"
   ]
  },
  {
   "cell_type": "code",
   "execution_count": null,
   "metadata": {
    "scrolled": true
   },
   "outputs": [],
   "source": [
    "for i in range(len(flights.index)):\n",
    "    try:\n",
    "        row = flights.iloc[[i]]\n",
    "\n",
    "        row.to_sql('flights', con=engine, if_exists='append', index = False)\n",
    "\n",
    "    except Exception as e:\n",
    "        continue"
   ]
  },
  {
   "cell_type": "code",
   "execution_count": null,
   "metadata": {},
   "outputs": [],
   "source": [
    "for i in range(len(flights.index)):\n",
    "    try:\n",
    "        row = flights.iloc[[i]]\n",
    "\n",
    "        row.to_sql('flights', con=engine, if_exists='append', index = False)\n",
    "\n",
    "    except Exception as e:\n",
    "        continue"
   ]
  },
  {
   "cell_type": "code",
   "execution_count": 8,
   "metadata": {},
   "outputs": [
    {
     "data": {
      "text/plain": [
       "336776"
      ]
     },
     "execution_count": 8,
     "metadata": {},
     "output_type": "execute_result"
    }
   ],
   "source": [
    "len(flights.index)"
   ]
  },
  {
   "cell_type": "code",
   "execution_count": 6,
   "metadata": {
    "scrolled": true
   },
   "outputs": [
    {
     "name": "stdout",
     "output_type": "stream",
     "text": [
      "[\"0 : 'list' object has no attribute 'to_frame'\", \"1 : 'list' object has no attribute 'to_frame'\"]\n"
     ]
    }
   ],
   "source": [
    "err_array = []\n",
    "for i, row in flights.head(2).iterrows():\n",
    "    try:\n",
    "        newRow = [[row].to_frame()]\n",
    "        newRow.to_sql('flights', con=engine, if_exists='append', index = False)\n",
    "\n",
    "    except Exception as e:\n",
    "        err_array.append(f\"{i} : {e}\")\n",
    "        #continue\n",
    "print(err_array)"
   ]
  },
  {
   "cell_type": "code",
   "execution_count": null,
   "metadata": {
    "scrolled": true
   },
   "outputs": [],
   "source": [
    "flights = flights[\n",
    "    (flights.dest.isin(airports['faa'])) & \n",
    "    (flights.tailnum.isin(planes['tailnum'])) &\n",
    "    (flights.carrier.isin(airlines['carrier'])) &\n",
    "    (flights.origin.isin(airports['faa'])) &\n",
    "    (flights.year.isin(weather['year'])) &\n",
    "    (flights.month.isin(weather['month'])) &\n",
    "    (flights.day.isin(weather['day'])) &\n",
    "    (flights.hour.isin(weather['hour'])) &\n",
    "    (flights.origin.isin(weather['origin']))\n",
    "    ]\n"
   ]
  },
  {
   "cell_type": "code",
   "execution_count": null,
   "metadata": {
    "scrolled": true
   },
   "outputs": [],
   "source": [
    "flights.to_sql('flights', con=engine, if_exists='append', index = False)"
   ]
  }
 ],
 "metadata": {
  "kernelspec": {
   "display_name": "Python 3",
   "language": "python",
   "name": "python3"
  },
  "language_info": {
   "codemirror_mode": {
    "name": "ipython",
    "version": 3
   },
   "file_extension": ".py",
   "mimetype": "text/x-python",
   "name": "python",
   "nbconvert_exporter": "python",
   "pygments_lexer": "ipython3",
   "version": "3.8.0"
  }
 },
 "nbformat": 4,
 "nbformat_minor": 4
}
