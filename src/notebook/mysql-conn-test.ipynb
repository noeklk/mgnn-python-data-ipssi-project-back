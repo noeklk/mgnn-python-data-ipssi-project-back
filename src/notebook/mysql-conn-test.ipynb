{
 "cells": [
  {
   "cell_type": "code",
   "execution_count": 1,
   "metadata": {},
   "outputs": [],
   "source": [
    "import mysql.connector"
   ]
  },
  {
   "cell_type": "code",
   "execution_count": 2,
   "metadata": {},
   "outputs": [
    {
     "ename": "TypeError",
     "evalue": "execute() missing 1 required positional argument: 'operation'",
     "output_type": "error",
     "traceback": [
      "\u001b[1;31m---------------------------------------------------------------------------\u001b[0m",
      "\u001b[1;31mTypeError\u001b[0m                                 Traceback (most recent call last)",
      "\u001b[1;32m<ipython-input-2-c5e9ddc76412>\u001b[0m in \u001b[0;36m<module>\u001b[1;34m\u001b[0m\n\u001b[0;32m      6\u001b[0m \u001b[1;33m\u001b[0m\u001b[0m\n\u001b[0;32m      7\u001b[0m \u001b[0mcsr\u001b[0m \u001b[1;33m=\u001b[0m \u001b[0mconn\u001b[0m\u001b[1;33m.\u001b[0m\u001b[0mcursor\u001b[0m\u001b[1;33m(\u001b[0m\u001b[1;33m)\u001b[0m\u001b[1;33m\u001b[0m\u001b[1;33m\u001b[0m\u001b[0m\n\u001b[1;32m----> 8\u001b[1;33m \u001b[0mcsr\u001b[0m\u001b[1;33m.\u001b[0m\u001b[0mexecute\u001b[0m\u001b[1;33m(\u001b[0m\u001b[1;33m)\u001b[0m\u001b[1;33m\u001b[0m\u001b[1;33m\u001b[0m\u001b[0m\n\u001b[0m\u001b[0;32m      9\u001b[0m \u001b[1;33m\u001b[0m\u001b[0m\n\u001b[0;32m     10\u001b[0m \u001b[1;33m\u001b[0m\u001b[0m\n",
      "\u001b[1;31mTypeError\u001b[0m: execute() missing 1 required positional argument: 'operation'"
     ]
    }
   ],
   "source": [
    "#conn = psycopg2.connect(\"dbname=main user=root password=root port=8080 host=localhost\")\n",
    "#conn = db.Connection(user='root', password='root',\n",
    "#host='localhost', charset='utf8mb4', port=8080)\n",
    "    \n",
    "conn = mysql.connector.connect(user='root', database='test', port='8081')\n",
    "\n",
    "csr = conn.cursor()\n",
    "csr.execute()\n",
    "\n",
    "\n",
    "\n",
    "conn.close()\n",
    "#try:\n",
    "#csr = conn.cursor()\n",
    "#print(csr.execute(\"SHOW DATABASES\"))\n",
    "    # print(cursor().execute(\"SHOW DATABASES\"));\n",
    "  #  conn.cursor()\n",
    "    #mycursor = mydb.cursor()\n",
    "\n",
    "    #mycursor.execute(\"CREATE DATABASE mydatabase\")\n",
    "    #with conn.cursor() as cursor:\n",
    "       # print(1)\n",
    "       \n",
    "       # cursor.execute(\"CREATE DATABASE IF NOT EXISTS test_db_1;\")\n",
    "       # cursor.execute(\"USE test_db_1;\")\n",
    "       # cursor.execute(\"CREATE TABLE IF NOT EXISTS test_table_1(nom int);\")\n",
    "       \n",
    "    #conn.commit()\n",
    "        \n",
    "#finally:\n",
    "   # conn.close()"
   ]
  },
  {
   "cell_type": "code",
   "execution_count": 44,
   "metadata": {},
   "outputs": [],
   "source": [
    "import pandas as pd\n",
    "from sqlalchemy import create_engine\n",
    "#import pymysql\n",
    "\n",
    "engine = create_engine('mysql+pymysql://root@localhost:8081/test?charset=utf8mb4',)\n",
    "\n",
    "\n",
    "\n",
    "airlines = pd.read_csv('../static/airlines.csv')\n",
    "\n",
    "airlines.to_sql('airlines', dtype={\n",
    "    'carrier': sqlalchemy.types.NVARCHAR(length=2),\n",
    "    'name': sqlalchemy.types.NVARCHAR(length=30)\n",
    "                                  } , con=engine, if_exists='append', index = False)\n",
    "\n",
    "engine.dispose()\n",
    "#engine.execute(\"SELECT * FROM airlines\").fetchall()\n",
    "\n",
    "\n",
    "#conn.close()"
   ]
  },
  {
   "cell_type": "code",
   "execution_count": 15,
   "metadata": {},
   "outputs": [],
   "source": []
  }
 ],
 "metadata": {
  "kernelspec": {
   "display_name": "Python 3",
   "language": "python",
   "name": "python3"
  },
  "language_info": {
   "codemirror_mode": {
    "name": "ipython",
    "version": 3
   },
   "file_extension": ".py",
   "mimetype": "text/x-python",
   "name": "python",
   "nbconvert_exporter": "python",
   "pygments_lexer": "ipython3",
   "version": "3.8.0"
  }
 },
 "nbformat": 4,
 "nbformat_minor": 4
}
