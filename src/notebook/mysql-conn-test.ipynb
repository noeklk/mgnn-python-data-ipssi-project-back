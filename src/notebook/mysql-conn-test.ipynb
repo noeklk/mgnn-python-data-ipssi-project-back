{
 "cells": [
  {
   "cell_type": "code",
   "execution_count": 9,
   "metadata": {},
   "outputs": [],
   "source": [
    "import mysql.connector"
   ]
  },
  {
   "cell_type": "code",
   "execution_count": 31,
   "metadata": {},
   "outputs": [],
   "source": [
    "\n",
    "\n",
    "#conn = psycopg2.connect(\"dbname=main user=root password=root port=8080 host=localhost\")\n",
    "#conn = db.Connection(user='root', password='root',\n",
    "#host='localhost', charset='utf8mb4', port=8080)\n",
    "    \n",
    "conn = mysql.connector.connect(user='root', database='test', port='8081')\n",
    "\n",
    "conn.close()\n",
    "#try:\n",
    "#csr = conn.cursor()\n",
    "#print(csr.execute(\"SHOW DATABASES\"))\n",
    "    # print(cursor().execute(\"SHOW DATABASES\"));\n",
    "  #  conn.cursor()\n",
    "    #mycursor = mydb.cursor()\n",
    "\n",
    "    #mycursor.execute(\"CREATE DATABASE mydatabase\")\n",
    "    #with conn.cursor() as cursor:\n",
    "       # print(1)\n",
    "       \n",
    "       # cursor.execute(\"CREATE DATABASE IF NOT EXISTS test_db_1;\")\n",
    "       # cursor.execute(\"USE test_db_1;\")\n",
    "       # cursor.execute(\"CREATE TABLE IF NOT EXISTS test_table_1(nom int);\")\n",
    "       \n",
    "    #conn.commit()\n",
    "        \n",
    "#finally:\n",
    "   # conn.close()"
   ]
  },
  {
   "cell_type": "code",
   "execution_count": null,
   "metadata": {},
   "outputs": [],
   "source": []
  }
 ],
 "metadata": {
  "kernelspec": {
   "display_name": "Python 3",
   "language": "python",
   "name": "python3"
  },
  "language_info": {
   "codemirror_mode": {
    "name": "ipython",
    "version": 3
   },
   "file_extension": ".py",
   "mimetype": "text/x-python",
   "name": "python",
   "nbconvert_exporter": "python",
   "pygments_lexer": "ipython3",
   "version": "3.8.0"
  }
 },
 "nbformat": 4,
 "nbformat_minor": 4
}
