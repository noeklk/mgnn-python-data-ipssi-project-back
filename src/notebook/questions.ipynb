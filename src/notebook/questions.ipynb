{
 "cells": [
  {
   "cell_type": "markdown",
   "metadata": {},
   "source": [
    "# Question 1"
   ]
  },
  {
   "cell_type": "code",
   "execution_count": 5,
   "metadata": {},
   "outputs": [],
   "source": [
    "from sqlalchemy import create_engine\n",
    "from sqlalchemy.sql import text\n",
    "from flask import jsonify\n",
    "engine = create_engine('mysql+pymysql://root@localhost:8081/airport-analytics?charset=utf8mb4')"
   ]
  },
  {
   "cell_type": "code",
   "execution_count": 8,
   "metadata": {},
   "outputs": [
    {
     "name": "stdout",
     "output_type": "stream",
     "text": [
      "[(16, 1458, 100, 3322, 10)]\n"
     ]
    }
   ],
   "source": [
    "question_1 = text(\"\"\"SELECT (\n",
    "        SELECT COUNT(*)\n",
    "        FROM   airlines\n",
    "        ) AS airlines_count,\n",
    "        (\n",
    "        \tSELECT COUNT(*)\n",
    "        \tFROM   airports\n",
    "        ) AS airports_count,\n",
    "        (\n",
    "            SELECT COUNT(DISTINCT dest)\n",
    "            FROM flights\n",
    "        ) AS flights_distinct_dest_count,\n",
    "         (\n",
    "            SELECT COUNT(*)\n",
    "            FROM planes\n",
    "        ) AS planes_count,\n",
    "        (\n",
    "            SELECT COUNT(DISTINCT tzone)\n",
    "            FROM airports\n",
    "        ) AS airports_distinct_tzone_count\n",
    "FROM    DUAL\"\"\")\n",
    "\n",
    "with engine.connect() as con:\n",
    "    data = con.execute(question_1).fetchall()\n",
    "    print(data)\n"
   ]
  }
 ],
 "metadata": {
  "kernelspec": {
   "display_name": "Python 3",
   "language": "python",
   "name": "python3"
  },
  "language_info": {
   "codemirror_mode": {
    "name": "ipython",
    "version": 3
   },
   "file_extension": ".py",
   "mimetype": "text/x-python",
   "name": "python",
   "nbconvert_exporter": "python",
   "pygments_lexer": "ipython3",
   "version": "3.8.0"
  }
 },
 "nbformat": 4,
 "nbformat_minor": 4
}
